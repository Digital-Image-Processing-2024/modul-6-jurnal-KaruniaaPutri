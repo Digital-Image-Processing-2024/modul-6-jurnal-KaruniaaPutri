{
 "cells": [
  {
   "cell_type": "markdown",
   "metadata": {},
   "source": [
    "## Resume Finger Simulation Experiment - F1D022010"
   ]
  },
  {
   "cell_type": "markdown",
   "metadata": {},
   "source": [
    "### Data Understanding"
   ]
  },
  {
   "cell_type": "markdown",
   "metadata": {},
   "source": [
    "Jelaskan mengenai data yang digunakan dalam project kalian, seperti jumlah data, jumlah kelas, serta bagaimana cara kalian mendapatkan data tersebut."
   ]
  },
  {
   "cell_type": "markdown",
   "metadata": {},
   "source": [
    "> Data project ini digunakan untuk membaca dan memproses data gambar dari folder \"Finger Simulation Dataset 2024\". Data ini terdiri dari beberapa subfolder yang masing-masing merepresentasikan kelas yang berbeda, di mana terdapat 5 folder yaitu Finger_1, Finger_2, Finger_3, Finger_4, dan Finger_5 dengan jumlah gambar sebanyak 2099. Setiap subfolder diisi dengan gambar yang sesuai untuk kelas tersebut, yang bisa didapatkan dari sumber seperti pemotretan sendiri atau penggunaan dataset yang sudah ada. Struktur folder harus konsisten dengan masing-masing subfolder berisi gambar kelas yang relevan. Kualitas dan format gambar (JPG)."
   ]
  },
  {
   "cell_type": "markdown",
   "metadata": {},
   "source": [
    "### Data Preparation"
   ]
  },
  {
   "cell_type": "markdown",
   "metadata": {},
   "source": [
    "#### Image Augmentation"
   ]
  },
  {
   "cell_type": "markdown",
   "metadata": {},
   "source": [
    "Jelaskan kombinasi teknik augmentasi gambar apa saja yang kalian gunakan, serta berapa gambar yang dihasilkan dari 1 gambar asli."
   ]
  },
  {
   "cell_type": "markdown",
   "metadata": {},
   "source": [
    "> Dalam project ini, kami menggunakan berbagai teknik augmentasi gambar untuk meningkatkan variasi dataset. Teknik augmentasi yang digunakan meliputi rotasi gambar sebesar 90 derajat, -90 derajat, serta pencerminan horizontal dan vertikal. Setiap gambar asli yang diaugmentasi menghasilkan empat gambar tambahan, yaitu satu gambar untuk setiap teknik augmentasi. Sebagai contoh, dari satu gambar asli akan dihasilkan satu gambar hasil rotasi 90 derajat, satu gambar hasil rotasi -90 derajat, satu gambar hasil pencerminan horizontal, dan satu gambar hasil pencerminan vertikal. Dengan demikian, satu gambar asli diubah menjadi total lima gambar termasuk gambar asli dan empat gambar hasil augmentasi. Teknik-teknik ini diterapkan untuk memperkaya dataset dan membantu model dalam belajar dari variasi yang lebih besar."
   ]
  },
  {
   "cell_type": "markdown",
   "metadata": {},
   "source": [
    "### Preprocessing"
   ]
  },
  {
   "cell_type": "markdown",
   "metadata": {},
   "source": [
    "Dari setiap percobaan yang telah kalian lakukan, jelaskan bagaimana cara kalian menemukan preprocessing yang paling tepat. Jelaskan alasan kalian menggunakan teknik tersebut dan berikan alasan mengapa preprocessing diperlukan."
   ]
  },
  {
   "cell_type": "markdown",
   "metadata": {},
   "source": [
    "> Dalam project ini, dilakukan berbagai percobaan preprocessing dengan teknik augmentasi gambar seperti rotasi dan translasi untuk menemukan pendekatan yang paling tepat. Kami memutar gambar dengan sudut acak antara 0 hingga 360 derajat dan memindahkan gambar secara acak dalam rentang -50 hingga 50 piksel secara horizontal dan vertikal. Teknik augmentasi ini membantu menciptakan variasi sudut pandang dan posisi yang dapat ditemui dalam data nyata, sehingga model lebih robust dan mampu mengenali objek dalam berbagai orientasi dan posisi. Hasil dari rotasi dan translasi ini ditampilkan menggunakan fungsi display_samples untuk menampilkan gambar hasil augmentasi dari setiap label. Melalui percobaan ini, kami menyimpulkan bahwa preprocessing dengan augmentasi gambar memperkaya variasi data, yang pada gilirannya meningkatkan performa model dengan membuatnya lebih general dan mampu menangani data baru dengan lebih baik, mencegah overfitting terhadap data pelatihan yang terbatas"
   ]
  },
  {
   "cell_type": "markdown",
   "metadata": {},
   "source": [
    "### Feature Selection"
   ]
  },
  {
   "cell_type": "markdown",
   "metadata": {},
   "source": [
    "Jelaskan bagaimana kalian menemukan fitur yang paling tepat untuk digunakan. Jelaskan alasan kalian menggunakan fitur tersebut dan berikan alasan mengapa fitur tersebut diperlukan."
   ]
  },
  {
   "cell_type": "markdown",
   "metadata": {},
   "source": [
    "> Untuk menemukan fitur yang paling tepat untuk digunakan, kami menggunakan metode seleksi fitur berbasis korelasi. Fitur-fitur tekstur dari matriks GLCM (Gray Level Co-occurrence Matrix) seperti Kontras, Dissimilarity, Homogeneity, Energy, Correlation, ASM, dan Entropy dihitung untuk setiap gambar. Kami kemudian membuat matriks korelasi untuk mengidentifikasi fitur yang memiliki korelasi tinggi dengan label kelas. Fitur-fitur yang memiliki korelasi absolut lebih dari 0.99 dengan label kelas dipilih sebagai fitur yang paling relevan. Proses ini penting untuk mengidentifikasi dan menggunakan fitur-fitur yang paling informatif untuk klasifikasi, mengurangi dimensionalitas data, dan meningkatkan performa model dengan fokus pada fitur yang memiliki hubungan kuat dengan target prediksi. Seleksi fitur berbasis korelasi memungkinkan kami untuk mengeliminasi fitur yang kurang penting atau redundan, sehingga model dapat belajar dengan lebih efisien dan akurat."
   ]
  },
  {
   "cell_type": "markdown",
   "metadata": {},
   "source": [
    "### Modeling"
   ]
  },
  {
   "cell_type": "markdown",
   "metadata": {},
   "source": [
    "Jelaskan bagaimana kalian melakukan hyperparameter tuning pada model tersebut."
   ]
  },
  {
   "cell_type": "markdown",
   "metadata": {},
   "source": [
    "> Untuk melakukan hyperparameter tuning pada model RandomForestClassifier, kami memanfaatkan teknik cross-validation dan grid search. Kami menentukan kumpulan nilai yang mungkin untuk beberapa parameter kunci seperti jumlah pohon (n_estimators), kedalaman maksimum pohon (max_depth), jumlah fitur yang akan dipertimbangkan pada setiap split (max_features), dan lainnya. Kami kemudian menggunakan fungsi GridSearchCV dari sklearn untuk mencari kombinasi parameter terbaik yang menghasilkan akurasi tertinggi berdasarkan validasi silang. Proses ini dilakukan dengan membagi data menjadi k-fold, di mana setiap kombinasi parameter dievaluasi pada setiap fold. Setelah menemukan parameter terbaik, kami melatih model menggunakan nilai-nilai tersebut dan mengevaluasi performanya pada data uji. Hasil akhirnya adalah model RandomForestClassifier yang dioptimalkan, yang memungkinkan kami untuk mencapai tingkat akurasi yang lebih baik pada data uji."
   ]
  },
  {
   "cell_type": "markdown",
   "metadata": {},
   "source": [
    "### Evauation"
   ]
  },
  {
   "cell_type": "markdown",
   "metadata": {},
   "source": [
    "Jelaskan bagaimana peningkatan performa model dari metrics yang kalian gunakan pada berbagai percobaan yang telah kalian lakukan."
   ]
  },
  {
   "cell_type": "markdown",
   "metadata": {},
   "source": [
    "> Dalam percobaan yang dilakukan, kami mengevaluasi performa model menggunakan beberapa metrik evaluasi seperti akurasi, presisi, recall, dan F1-score. Dengan menerapkan model RandomForestClassifier pada dataset iris yang telah diproses, kami menggunakan metode evaluasi kustom yang menghitung metrik-metrik tersebut. Setelah mengevaluasi model pada data pelatihan dan data uji, kami memperoleh nilai-nilai metrik evaluasi yang mewakili performa model. Melalui serangkaian percobaan dengan variasi parameter dan preprocessing yang berbeda, kami mengamati peningkatan performa model dalam hal akurasi, presisi, recall, dan F1-score. Evaluasi model pada data pelatihan dan data uji, serta visualisasi matriks kebingungan, membantu kami dalam memahami dan mengevaluasi bagaimana model bekerja pada dataset yang diberikan."
   ]
  }
 ],
 "metadata": {
  "language_info": {
   "name": "python"
  }
 },
 "nbformat": 4,
 "nbformat_minor": 2
}
